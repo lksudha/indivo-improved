{
  "nbformat": 4,
  "nbformat_minor": 0,
  "metadata": {
    "colab": {
      "provenance": [],
      "authorship_tag": "ABX9TyOdOKguQuPUaVBUKnhM87qa",
      "include_colab_link": true
    },
    "kernelspec": {
      "name": "python3",
      "display_name": "Python 3"
    },
    "language_info": {
      "name": "python"
    }
  },
  "cells": [
    {
      "cell_type": "markdown",
      "metadata": {
        "id": "view-in-github",
        "colab_type": "text"
      },
      "source": [
        "<a href=\"https://colab.research.google.com/github/lksudha/indivo-improved/blob/main/indivo.ipynb\" target=\"_parent\"><img src=\"https://colab.research.google.com/assets/colab-badge.svg\" alt=\"Open In Colab\"/></a>"
      ]
    },
    {
      "cell_type": "code",
      "execution_count": 2,
      "metadata": {
        "colab": {
          "base_uri": "https://localhost:8080/"
        },
        "id": "5xeboNcb-oKd",
        "outputId": "8d4ae53d-bcee-48b3-8028-ab17a281d3ba"
      },
      "outputs": [
        {
          "output_type": "stream",
          "name": "stdout",
          "text": [
            "67.6\n"
          ]
        }
      ],
      "source": [
        "\"\"\"\n",
        "mh scoring t-scores original code\n",
        "\"\"\"\n",
        "mh_t_score = {'4': 21.2, '5': 25.1, '6': 28.4, '7': 31.3, '8': 33.8, '9': 36.3, '10': 38.8,\n",
        "              '11': 41.1, '12': 43.5, '13': 45.8, '14': 48.3, '15': 50.8, '16': 53.3, '17': 56.0, '18': 59.0,\n",
        "              '19': 62.5, '20': 67.6\n",
        "             }\n",
        "\n",
        "\n",
        "def calculate_mh_score(answers):\n",
        "    \"\"\"\n",
        "    calculate mh score from the responses given\n",
        "    :param answers:\n",
        "    :return:\n",
        "    \"\"\"\n",
        "\n",
        "    mh_items = ('answer31', 'answer32', 'answer33', 'answer34')\n",
        "    score = 0\n",
        "    for item in mh_items:\n",
        "        if answers[item] == '1':\n",
        "            score += 5\n",
        "        elif answers[item] == '2':\n",
        "            score += 4\n",
        "        elif answers[item] == '3':\n",
        "            score += 3\n",
        "        elif answers[item] == '4':\n",
        "            score += 2\n",
        "        elif answers[item] == '5':\n",
        "            score += 1\n",
        "\n",
        "    return str(mh_t_score[str(score)])\n",
        "\n",
        "\n",
        "answers = { 'answer31': '1',\n",
        "            'answer32': '1',\n",
        "            'answer33': '1',\n",
        "            'answer34': '1'\n",
        "           }\n",
        "result = calculate_mh_score(answers)\n",
        "\n",
        "print(result)"
      ]
    }
  ]
}